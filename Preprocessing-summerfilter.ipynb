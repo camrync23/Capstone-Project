{
 "cells": [
  {
   "cell_type": "code",
   "execution_count": 1,
   "metadata": {},
   "outputs": [],
   "source": [
    "import duckdb"
   ]
  },
  {
   "cell_type": "code",
   "execution_count": 2,
   "metadata": {},
   "outputs": [],
   "source": [
    "file_path = \"/Users/camryncurtis/Downloads/Capstone Data Preprocessing/itineraries_snappy.parquet\""
   ]
  },
  {
   "cell_type": "code",
   "execution_count": 3,
   "metadata": {},
   "outputs": [
    {
     "data": {
      "text/plain": [
       "<duckdb.duckdb.DuckDBPyConnection at 0x104dbe1f0>"
      ]
     },
     "execution_count": 3,
     "metadata": {},
     "output_type": "execute_result"
    }
   ],
   "source": [
    "con = duckdb.connect()\n",
    "con.execute(\"CREATE TABLE flights AS SELECT * FROM read_parquet('\" + file_path + \"')\")"
   ]
  },
  {
   "cell_type": "code",
   "execution_count": 7,
   "metadata": {},
   "outputs": [
    {
     "name": "stdout",
     "output_type": "stream",
     "text": [
      "Total rows in the dataset: 82138753\n"
     ]
    }
   ],
   "source": [
    "row_count = con.execute(\"SELECT COUNT(*) FROM flights\").fetchall()\n",
    "print(f\"Total rows in the dataset: {row_count[0][0]}\")"
   ]
  },
  {
   "cell_type": "code",
   "execution_count": 8,
   "metadata": {},
   "outputs": [
    {
     "name": "stdout",
     "output_type": "stream",
     "text": [
      "Column Name: legId, Data Type: VARCHAR\n",
      "Column Name: searchDate, Data Type: VARCHAR\n",
      "Column Name: flightDate, Data Type: VARCHAR\n",
      "Column Name: startingAirport, Data Type: VARCHAR\n",
      "Column Name: destinationAirport, Data Type: VARCHAR\n",
      "Column Name: fareBasisCode, Data Type: VARCHAR\n",
      "Column Name: travelDuration, Data Type: VARCHAR\n",
      "Column Name: elapsedDays, Data Type: BIGINT\n",
      "Column Name: isBasicEconomy, Data Type: BOOLEAN\n",
      "Column Name: isRefundable, Data Type: BOOLEAN\n",
      "Column Name: isNonStop, Data Type: BOOLEAN\n",
      "Column Name: baseFare, Data Type: DOUBLE\n",
      "Column Name: totalFare, Data Type: DOUBLE\n",
      "Column Name: seatsRemaining, Data Type: BIGINT\n",
      "Column Name: totalTravelDistance, Data Type: DOUBLE\n",
      "Column Name: segmentsDepartureTimeEpochSeconds, Data Type: VARCHAR\n",
      "Column Name: segmentsDepartureTimeRaw, Data Type: VARCHAR\n",
      "Column Name: segmentsArrivalTimeEpochSeconds, Data Type: VARCHAR\n",
      "Column Name: segmentsArrivalTimeRaw, Data Type: VARCHAR\n",
      "Column Name: segmentsArrivalAirportCode, Data Type: VARCHAR\n",
      "Column Name: segmentsDepartureAirportCode, Data Type: VARCHAR\n",
      "Column Name: segmentsAirlineName, Data Type: VARCHAR\n",
      "Column Name: segmentsAirlineCode, Data Type: VARCHAR\n",
      "Column Name: segmentsEquipmentDescription, Data Type: VARCHAR\n",
      "Column Name: segmentsDurationInSeconds, Data Type: VARCHAR\n",
      "Column Name: segmentsDistance, Data Type: VARCHAR\n",
      "Column Name: segmentsCabinCode, Data Type: VARCHAR\n"
     ]
    }
   ],
   "source": [
    "columns= con.execute(\"DESCRIBE flights\").fetchall()\n",
    "\n",
    "for column in columns:\n",
    "    print(f\"Column Name: {column[0]}, Data Type: {column[1]}\")"
   ]
  },
  {
   "cell_type": "code",
   "execution_count": 4,
   "metadata": {},
   "outputs": [
    {
     "data": {
      "text/plain": [
       "<duckdb.duckdb.DuckDBPyConnection at 0x104dbe1f0>"
      ]
     },
     "execution_count": 4,
     "metadata": {},
     "output_type": "execute_result"
    }
   ],
   "source": [
    "con.execute(\"\"\"\n",
    "    CREATE TABLE summer_flights AS \n",
    "    SELECT \n",
    "        legId,\n",
    "        searchDate,\n",
    "        flightDate,\n",
    "        startingAirport,\n",
    "        destinationAirport,\n",
    "        fareBasisCode,\n",
    "        travelDuration,\n",
    "        isBasicEconomy,\n",
    "        isRefundable,\n",
    "        isNonStop,\n",
    "        baseFare,\n",
    "        totalFare,\n",
    "        seatsRemaining,\n",
    "        totalTravelDistance,\n",
    "        segmentsDepartureTimeEpochSeconds,\n",
    "        segmentsArrivalTimeEpochSeconds,\n",
    "        segmentsArrivalAirportCode,\n",
    "        segmentsDepartureAirportCode,\n",
    "        segmentsAirlineName,\n",
    "        segmentsDurationInSeconds,\n",
    "        segmentsDistance,\n",
    "        segmentsCabinCode\n",
    "    FROM flights\n",
    "    WHERE EXTRACT(MONTH FROM CAST(flightDate as DATE)) IN (6, 7, 8)\n",
    "\"\"\"\n",
    ")"
   ]
  },
  {
   "cell_type": "code",
   "execution_count": 11,
   "metadata": {},
   "outputs": [
    {
     "name": "stdout",
     "output_type": "stream",
     "text": [
      "Total rows in summer flights dataset: 42946320\n"
     ]
    }
   ],
   "source": [
    "row_count = con.execute(\"SELECT COUNT(*) FROM summer_flights\").fetchall()\n",
    "print(f\"Total rows in summer flights dataset: {row_count[0][0]}\")\n"
   ]
  },
  {
   "cell_type": "code",
   "execution_count": 5,
   "metadata": {},
   "outputs": [],
   "source": [
    "output_path = \"/Users/camryncurtis/Downloads/Capstone Data Preprocessing/summer_flights_snappy.parquet\"\n",
    "con.execute(f\"COPY (SELECT * FROM summer_flights) TO '{output_path}' (FORMAT PARQUET, COMPRESSION SNAPPY)\")\n",
    "\n",
    "# Close the connection\n",
    "con.close()"
   ]
  },
  {
   "cell_type": "markdown",
   "metadata": {},
   "source": [
    "### California airport selection (LAX, SFO, OAK)\n",
    "~17 Million entries \n"
   ]
  },
  {
   "cell_type": "code",
   "execution_count": 7,
   "metadata": {},
   "outputs": [
    {
     "name": "stdout",
     "output_type": "stream",
     "text": [
      "Total rows in California summer flights dataset: 17358555\n"
     ]
    }
   ],
   "source": [
    "con = duckdb.connect()\n",
    "con.execute(\"CREATE TABLE flights AS SELECT * FROM read_parquet('\" + file_path + \"')\") \n",
    "\n",
    "# Modify the query to filter for California airports (LAX, SFO, OAK)\n",
    "con.execute(\"\"\"\n",
    "    CREATE TABLE summer_california_flights AS \n",
    "    SELECT \n",
    "        legId,\n",
    "        searchDate,\n",
    "        flightDate,\n",
    "        startingAirport,\n",
    "        destinationAirport,\n",
    "        fareBasisCode,\n",
    "        travelDuration,\n",
    "        isBasicEconomy,\n",
    "        isRefundable,\n",
    "        isNonStop,\n",
    "        baseFare,\n",
    "        totalFare,\n",
    "        seatsRemaining,\n",
    "        totalTravelDistance,\n",
    "        segmentsDepartureTimeEpochSeconds,\n",
    "        segmentsArrivalTimeEpochSeconds,\n",
    "        segmentsArrivalAirportCode,\n",
    "        segmentsDepartureAirportCode,\n",
    "        segmentsAirlineName,\n",
    "        segmentsDurationInSeconds,\n",
    "        segmentsDistance,\n",
    "        segmentsCabinCode\n",
    "    FROM flights\n",
    "    WHERE EXTRACT(MONTH FROM CAST(flightDate as DATE)) IN (6, 7, 8)\n",
    "    AND (startingAirport IN ('LAX', 'SFO', 'OAK') OR destinationAirport IN ('LAX', 'SFO', 'OAK'))\n",
    "\"\"\")\n",
    "\n",
    "# Count the rows in the new California-focused summer dataset\n",
    "row_count = con.execute(\"SELECT COUNT(*) FROM summer_california_flights\").fetchall()\n",
    "print(f\"Total rows in California summer flights dataset: {row_count[0][0]}\")\n",
    "\n",
    "# Export the filtered dataset\n",
    "output_path = \"/Users/camryncurtis/Downloads/Capstone Data Preprocessing/summer_california_flights_snappy.parquet\"\n",
    "con.execute(f\"COPY (SELECT * FROM summer_california_flights) TO '{output_path}' (FORMAT PARQUET, COMPRESSION SNAPPY)\")\n",
    "\n",
    "# Close the connection\n",
    "con.close()\n"
   ]
  },
  {
   "cell_type": "markdown",
   "metadata": {},
   "source": [
    "### Single Airport Selection (LAX)\n",
    "~8 Million Entries \n"
   ]
  },
  {
   "cell_type": "code",
   "execution_count": 9,
   "metadata": {},
   "outputs": [
    {
     "name": "stdout",
     "output_type": "stream",
     "text": [
      "Total rows in LAX summer flights dataset: 8616415\n"
     ]
    }
   ],
   "source": [
    "con = duckdb.connect()\n",
    "con.execute(\"CREATE TABLE flights AS SELECT * FROM read_parquet('\" + file_path + \"')\") \n",
    "\n",
    "con.execute(\"\"\"\n",
    "    CREATE TABLE summer_selected_airports AS \n",
    "    SELECT \n",
    "        legId,\n",
    "        searchDate,\n",
    "        flightDate,\n",
    "        startingAirport,\n",
    "        destinationAirport,\n",
    "        fareBasisCode,\n",
    "        travelDuration,\n",
    "        isBasicEconomy,\n",
    "        isRefundable,\n",
    "        isNonStop,\n",
    "        baseFare,\n",
    "        totalFare,\n",
    "        seatsRemaining,\n",
    "        totalTravelDistance,\n",
    "        segmentsDepartureTimeEpochSeconds,\n",
    "        segmentsArrivalTimeEpochSeconds,\n",
    "        segmentsArrivalAirportCode,\n",
    "        segmentsDepartureAirportCode,\n",
    "        segmentsAirlineName,\n",
    "        segmentsDurationInSeconds,\n",
    "        segmentsDistance,\n",
    "        segmentsCabinCode\n",
    "    FROM flights\n",
    "    WHERE EXTRACT(MONTH FROM CAST(flightDate as DATE)) IN (6, 7, 8)\n",
    "    AND (startingAirport IN ('LAX') OR destinationAirport IN ('LAX'))\n",
    "\"\"\")\n",
    "\n",
    "# Get the count of rows in the filtered dataset\n",
    "row_count = con.execute(\"SELECT COUNT(*) FROM summer_selected_airports\").fetchall()\n",
    "print(f\"Total rows in LAX summer flights dataset: {row_count[0][0]}\")\n",
    "\n",
    "# Export the filtered dataset to a Parquet file\n",
    "output_path = \"/Users/camryncurtis/Downloads/Capstone Data Preprocessing/summer_lax_snappy.parquet\"\n",
    "con.execute(f\"COPY (SELECT * FROM summer_selected_airports) TO '{output_path}' (FORMAT PARQUET, COMPRESSION SNAPPY)\")\n",
    "\n",
    "# Close the DuckDB connection\n",
    "con.close()"
   ]
  },
  {
   "cell_type": "code",
   "execution_count": 11,
   "metadata": {},
   "outputs": [
    {
     "name": "stdout",
     "output_type": "stream",
     "text": [
      "Airport: LAX, Total Flights: 8616415\n",
      "Airport: LGA, Total Flights: 6420753\n",
      "Airport: BOS, Total Flights: 6137513\n",
      "Airport: SFO, Total Flights: 6019303\n",
      "Airport: DFW, Total Flights: 5952501\n",
      "Airport: ORD, Total Flights: 5758980\n",
      "Airport: CLT, Total Flights: 5543546\n",
      "Airport: ATL, Total Flights: 5407034\n",
      "Airport: MIA, Total Flights: 5240062\n",
      "Airport: DEN, Total Flights: 5004160\n",
      "Airport: PHL, Total Flights: 4929767\n",
      "Airport: DTW, Total Flights: 4714075\n",
      "Airport: JFK, Total Flights: 4542752\n",
      "Airport: EWR, Total Flights: 4282662\n",
      "Airport: IAD, Total Flights: 3734665\n",
      "Airport: OAK, Total Flights: 3588452\n"
     ]
    }
   ],
   "source": [
    "\n",
    "\n",
    "# File path to the original dataset\n",
    "file_path = \"/Users/camryncurtis/Downloads/Capstone Data Preprocessing/itineraries_snappy.parquet\"\n",
    "\n",
    "# Connect to DuckDB and load the dataset\n",
    "con = duckdb.connect()\n",
    "con.execute(\"CREATE TABLE flights AS SELECT * FROM read_parquet('\" + file_path + \"')\")\n",
    "\n",
    "# Count flights for summer months (June, July, August) and for all airports (either as starting or destination airport)\n",
    "airport_counts = con.execute(\"\"\"\n",
    "    SELECT airport, COUNT(*) AS flight_count \n",
    "    FROM (\n",
    "        SELECT startingAirport AS airport, flightDate FROM flights \n",
    "        WHERE EXTRACT(MONTH FROM TRY_CAST(flightDate AS DATE)) IN (6, 7, 8)\n",
    "        UNION ALL\n",
    "        SELECT destinationAirport AS airport, flightDate FROM flights \n",
    "        WHERE EXTRACT(MONTH FROM TRY_CAST(flightDate AS DATE)) IN (6, 7, 8)\n",
    "    )\n",
    "    GROUP BY airport\n",
    "    ORDER BY flight_count DESC\n",
    "\"\"\").fetchall()\n",
    "\n",
    "# Print results\n",
    "for airport, count in airport_counts:\n",
    "    print(f\"Airport: {airport}, Total Flights: {count}\")\n",
    "\n",
    "# Close the DuckDB connection\n",
    "con.close()\n",
    "\n"
   ]
  },
  {
   "cell_type": "code",
   "execution_count": 12,
   "metadata": {},
   "outputs": [
    {
     "name": "stdout",
     "output_type": "stream",
     "text": [
      "Departure Counts:\n",
      "Airport: LAX, Departures: 4329731\n",
      "Airport: LGA, Departures: 3168648\n",
      "Airport: BOS, Departures: 3083056\n",
      "Airport: SFO, Departures: 3050571\n",
      "Airport: DFW, Departures: 2918327\n",
      "Airport: ORD, Departures: 2829279\n",
      "Airport: CLT, Departures: 2811265\n",
      "Airport: ATL, Departures: 2729638\n",
      "Airport: MIA, Departures: 2560279\n",
      "Airport: DEN, Departures: 2522618\n",
      "Airport: PHL, Departures: 2494111\n",
      "Airport: DTW, Departures: 2398881\n",
      "Airport: JFK, Departures: 2240627\n",
      "Airport: EWR, Departures: 2106120\n",
      "Airport: IAD, Departures: 1917607\n",
      "Airport: OAK, Departures: 1785562\n",
      "\n",
      "Arrival Counts:\n",
      "Airport: LAX, Arrivals: 4286684\n",
      "Airport: LGA, Arrivals: 3252105\n",
      "Airport: BOS, Arrivals: 3054457\n",
      "Airport: DFW, Arrivals: 3034174\n",
      "Airport: SFO, Arrivals: 2968732\n",
      "Airport: ORD, Arrivals: 2929701\n",
      "Airport: CLT, Arrivals: 2732281\n",
      "Airport: MIA, Arrivals: 2679783\n",
      "Airport: ATL, Arrivals: 2677396\n",
      "Airport: DEN, Arrivals: 2481542\n",
      "Airport: PHL, Arrivals: 2435656\n",
      "Airport: DTW, Arrivals: 2315194\n",
      "Airport: JFK, Arrivals: 2302125\n",
      "Airport: EWR, Arrivals: 2176542\n",
      "Airport: IAD, Arrivals: 1817058\n",
      "Airport: OAK, Arrivals: 1802890\n"
     ]
    }
   ],
   "source": [
    "\n",
    "\n",
    "# File path to the original dataset\n",
    "file_path = \"/Users/camryncurtis/Downloads/Capstone Data Preprocessing/itineraries_snappy.parquet\"\n",
    "\n",
    "# Connect to DuckDB and load the dataset\n",
    "con = duckdb.connect()\n",
    "con.execute(\"CREATE TABLE flights AS SELECT * FROM read_parquet('\" + file_path + \"')\")\n",
    "\n",
    "# Count the number of times each airport is the departing airport (startingAirport)\n",
    "departure_counts = con.execute(\"\"\"\n",
    "    SELECT startingAirport AS airport, COUNT(*) AS departure_count \n",
    "    FROM flights\n",
    "    WHERE EXTRACT(MONTH FROM TRY_CAST(flightDate AS DATE)) IN (6, 7, 8)  -- Summer months\n",
    "    GROUP BY startingAirport\n",
    "    ORDER BY departure_count DESC\n",
    "\"\"\").fetchall()\n",
    "\n",
    "# Count the number of times each airport is the arriving airport (destinationAirport)\n",
    "arrival_counts = con.execute(\"\"\"\n",
    "    SELECT destinationAirport AS airport, COUNT(*) AS arrival_count \n",
    "    FROM flights\n",
    "    WHERE EXTRACT(MONTH FROM TRY_CAST(flightDate AS DATE)) IN (6, 7, 8)  -- Summer months\n",
    "    GROUP BY destinationAirport\n",
    "    ORDER BY arrival_count DESC\n",
    "\"\"\").fetchall()\n",
    "\n",
    "# Print the results for departure counts\n",
    "print(\"Departure Counts:\")\n",
    "for airport, count in departure_counts:\n",
    "    print(f\"Airport: {airport}, Departures: {count}\")\n",
    "\n",
    "# Print the results for arrival counts\n",
    "print(\"\\nArrival Counts:\")\n",
    "for airport, count in arrival_counts:\n",
    "    print(f\"Airport: {airport}, Arrivals: {count}\")\n",
    "\n",
    "# Close the DuckDB connection\n",
    "con.close()\n"
   ]
  }
 ],
 "metadata": {
  "kernelspec": {
   "display_name": "Python 3",
   "language": "python",
   "name": "python3"
  },
  "language_info": {
   "codemirror_mode": {
    "name": "ipython",
    "version": 3
   },
   "file_extension": ".py",
   "mimetype": "text/x-python",
   "name": "python",
   "nbconvert_exporter": "python",
   "pygments_lexer": "ipython3",
   "version": "3.12.6"
  }
 },
 "nbformat": 4,
 "nbformat_minor": 2
}
