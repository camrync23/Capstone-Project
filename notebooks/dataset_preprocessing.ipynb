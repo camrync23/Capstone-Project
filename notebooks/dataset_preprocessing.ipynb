{
 "cells": [
  {
   "cell_type": "code",
   "execution_count": 5,
   "metadata": {},
   "outputs": [
    {
     "data": {
      "text/plain": [
       "<duckdb.duckdb.DuckDBPyConnection at 0x1108eb6b0>"
      ]
     },
     "execution_count": 5,
     "metadata": {},
     "output_type": "execute_result"
    }
   ],
   "source": [
    "# Install the DuckDB Python package\n",
    "import duckdb\n",
    "\n",
    "# Create path to the original dataset\n",
    "file_path = \"/Users/camryncurtis/Downloads/Capstone Data Preprocessing/itineraries_snappy.parquet\"\n",
    "\n",
    "# Connect to DuckDB and load the dataset\n",
    "con = duckdb.connect()\n",
    "con.execute(\"CREATE TABLE flights AS SELECT * FROM read_parquet('\" + file_path + \"')\")"
   ]
  },
  {
   "cell_type": "code",
   "execution_count": 6,
   "metadata": {},
   "outputs": [
    {
     "name": "stdout",
     "output_type": "stream",
     "text": [
      "Total rows in the dataset: 82138753\n"
     ]
    }
   ],
   "source": [
    "# Get the number of rows in the dataset\n",
    "row_count = con.execute(\"SELECT COUNT(*) FROM flights\").fetchall()\n",
    "print(f\"Total rows in the dataset: {row_count[0][0]}\")"
   ]
  },
  {
   "cell_type": "code",
   "execution_count": 7,
   "metadata": {},
   "outputs": [
    {
     "name": "stdout",
     "output_type": "stream",
     "text": [
      "Column Name: legId, Data Type: VARCHAR\n",
      "Column Name: searchDate, Data Type: VARCHAR\n",
      "Column Name: flightDate, Data Type: VARCHAR\n",
      "Column Name: startingAirport, Data Type: VARCHAR\n",
      "Column Name: destinationAirport, Data Type: VARCHAR\n",
      "Column Name: fareBasisCode, Data Type: VARCHAR\n",
      "Column Name: travelDuration, Data Type: VARCHAR\n",
      "Column Name: elapsedDays, Data Type: BIGINT\n",
      "Column Name: isBasicEconomy, Data Type: BOOLEAN\n",
      "Column Name: isRefundable, Data Type: BOOLEAN\n",
      "Column Name: isNonStop, Data Type: BOOLEAN\n",
      "Column Name: baseFare, Data Type: DOUBLE\n",
      "Column Name: totalFare, Data Type: DOUBLE\n",
      "Column Name: seatsRemaining, Data Type: BIGINT\n",
      "Column Name: totalTravelDistance, Data Type: DOUBLE\n",
      "Column Name: segmentsDepartureTimeEpochSeconds, Data Type: VARCHAR\n",
      "Column Name: segmentsDepartureTimeRaw, Data Type: VARCHAR\n",
      "Column Name: segmentsArrivalTimeEpochSeconds, Data Type: VARCHAR\n",
      "Column Name: segmentsArrivalTimeRaw, Data Type: VARCHAR\n",
      "Column Name: segmentsArrivalAirportCode, Data Type: VARCHAR\n",
      "Column Name: segmentsDepartureAirportCode, Data Type: VARCHAR\n",
      "Column Name: segmentsAirlineName, Data Type: VARCHAR\n",
      "Column Name: segmentsAirlineCode, Data Type: VARCHAR\n",
      "Column Name: segmentsEquipmentDescription, Data Type: VARCHAR\n",
      "Column Name: segmentsDurationInSeconds, Data Type: VARCHAR\n",
      "Column Name: segmentsDistance, Data Type: VARCHAR\n",
      "Column Name: segmentsCabinCode, Data Type: VARCHAR\n"
     ]
    }
   ],
   "source": [
    "# Get the column names and data types\n",
    "columns= con.execute(\"DESCRIBE flights\").fetchall()\n",
    "\n",
    "for column in columns:\n",
    "    print(f\"Column Name: {column[0]}, Data Type: {column[1]}\")"
   ]
  },
  {
   "cell_type": "code",
   "execution_count": 8,
   "metadata": {},
   "outputs": [
    {
     "name": "stdout",
     "output_type": "stream",
     "text": [
      "Total rows in LAX summer flights dataset: 4329731\n"
     ]
    }
   ],
   "source": [
    "# Filter dataset for LAX flights in June, July, and August (Summer)\n",
    "con = duckdb.connect()\n",
    "con.execute(\"CREATE TABLE flights AS SELECT * FROM read_parquet('\" + file_path + \"')\") \n",
    "\n",
    "con.execute(\"\"\"\n",
    "    CREATE TABLE summer_selected_airports AS \n",
    "    SELECT \n",
    "        legId,\n",
    "        searchDate,\n",
    "        flightDate,\n",
    "        startingAirport,\n",
    "        destinationAirport,\n",
    "        fareBasisCode,\n",
    "        travelDuration,\n",
    "        isBasicEconomy,\n",
    "        isRefundable,\n",
    "        isNonStop,\n",
    "        baseFare,\n",
    "        totalFare,\n",
    "        seatsRemaining,\n",
    "        totalTravelDistance,\n",
    "        segmentsDepartureTimeEpochSeconds,\n",
    "        segmentsArrivalTimeEpochSeconds,\n",
    "        segmentsArrivalAirportCode,\n",
    "        segmentsDepartureAirportCode,\n",
    "        segmentsAirlineName,\n",
    "        segmentsDurationInSeconds,\n",
    "        segmentsDistance,\n",
    "        segmentsCabinCode\n",
    "    FROM flights\n",
    "    WHERE EXTRACT(MONTH FROM CAST(flightDate as DATE)) IN (6, 7, 8)\n",
    "    AND (startingAirport IN ('LAX'))\n",
    "\"\"\")\n",
    "\n",
    "# Get the count of rows in the filtered dataset\n",
    "row_count = con.execute(\"SELECT COUNT(*) FROM summer_selected_airports\").fetchall()\n",
    "print(f\"Total rows in LAX summer flights dataset: {row_count[0][0]}\")\n",
    "\n",
    "# Export the filtered dataset to a Parquet file\n",
    "output_path = \"/Users/camryncurtis/Downloads/Capstone Data Preprocessing/summer_lax_snappy.parquet\"\n",
    "con.execute(f\"COPY (SELECT * FROM summer_selected_airports) TO '{output_path}' (FORMAT PARQUET, COMPRESSION SNAPPY)\")\n",
    "\n",
    "# Close the DuckDB connection\n",
    "con.close()"
   ]
  }
 ],
 "metadata": {
  "kernelspec": {
   "display_name": "venv",
   "language": "python",
   "name": "python3"
  },
  "language_info": {
   "codemirror_mode": {
    "name": "ipython",
    "version": 3
   },
   "file_extension": ".py",
   "mimetype": "text/x-python",
   "name": "python",
   "nbconvert_exporter": "python",
   "pygments_lexer": "ipython3",
   "version": "3.12.8"
  }
 },
 "nbformat": 4,
 "nbformat_minor": 2
}
