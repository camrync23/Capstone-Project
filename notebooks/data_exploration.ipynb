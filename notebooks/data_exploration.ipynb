{
 "cells": [
  {
   "cell_type": "code",
   "execution_count": 46,
   "metadata": {},
   "outputs": [],
   "source": [
    "import pyarrow\n",
    "import fastparquet\n",
    "import pandas as pd"
   ]
  },
  {
   "cell_type": "markdown",
   "metadata": {},
   "source": [
    "## Exploratory Analysis - Data Preview "
   ]
  },
  {
   "cell_type": "code",
   "execution_count": 47,
   "metadata": {},
   "outputs": [
    {
     "name": "stdout",
     "output_type": "stream",
     "text": [
      "                              legId  searchDate  flightDate startingAirport  \\\n",
      "0  006987aea766442f625ccd84bde23ff3  2022-04-17  2022-06-01             LAX   \n",
      "1  2181b0ab7161f081228a0c600d756eaf  2022-04-17  2022-06-01             LAX   \n",
      "2  1ad5b31e3269695b008e5001f06d627a  2022-04-17  2022-06-01             LAX   \n",
      "3  8e3f3570d010c80500d98f66bfc49777  2022-04-17  2022-06-01             LAX   \n",
      "4  7ff208a7f5d75b1a97d54b983eb4fabf  2022-04-17  2022-06-01             LAX   \n",
      "\n",
      "  destinationAirport fareBasisCode travelDuration  isBasicEconomy  \\\n",
      "0                ATL         GA7NR       PT14H25M           False   \n",
      "1                ATL         GA7NR       PT10H42M           False   \n",
      "2                ATL         UA7NR        PT9H49M           False   \n",
      "3                ATL        U0XSNR       PT12H42M           False   \n",
      "4                ATL       M03PXP5        PT6H17M           False   \n",
      "\n",
      "   isRefundable  isNonStop  ...  seatsRemaining  totalTravelDistance  \\\n",
      "0         False      False  ...               0                  NaN   \n",
      "1         False      False  ...               0                  NaN   \n",
      "2         False      False  ...               0                  NaN   \n",
      "3         False      False  ...               0                  NaN   \n",
      "4         False      False  ...               4               1955.0   \n",
      "\n",
      "   segmentsDepartureTimeEpochSeconds  segmentsArrivalTimeEpochSeconds  \\\n",
      "0             1654108800||1654146300           1654113300||1654160700   \n",
      "1             1654142400||1654174080           1654160400||1654180920   \n",
      "2             1654068600||1654096800           1654083240||1654103940   \n",
      "3             1654114980||1654146300           1654119480||1654160700   \n",
      "4             1654144980||1654153500           1654148880||1654167600   \n",
      "\n",
      "  segmentsArrivalAirportCode segmentsDepartureAirportCode  \\\n",
      "0                   LAS||ATL                     LAX||LAS   \n",
      "1                   FLL||ATL                     LAX||FLL   \n",
      "2                   ORD||ATL                     LAX||ORD   \n",
      "3                   LAS||ATL                     LAX||LAS   \n",
      "4                   LAS||ATL                     ONT||LAS   \n",
      "\n",
      "                    segmentsAirlineName segmentsDurationInSeconds  \\\n",
      "0      Spirit Airlines||Spirit Airlines               4500||14400   \n",
      "1      Spirit Airlines||Spirit Airlines               18000||6840   \n",
      "2      Spirit Airlines||Spirit Airlines               14640||7140   \n",
      "3      Spirit Airlines||Spirit Airlines               4500||14400   \n",
      "4  Frontier Airlines||Frontier Airlines               3900||14100   \n",
      "\n",
      "  segmentsDistance segmentsCabinCode  \n",
      "0       None||None      coach||coach  \n",
      "1       None||None      coach||coach  \n",
      "2       None||None      coach||coach  \n",
      "3       None||None      coach||coach  \n",
      "4        220||1735      coach||coach  \n",
      "\n",
      "[5 rows x 22 columns]\n"
     ]
    }
   ],
   "source": [
    "#Data Download and Preview \n",
    "df = pd.read_parquet('/Users/camryncurtis/Documents/GitHub/Capstone-Project/data/raw/prepros_summer_lax_snappy.parquet')\n",
    "print(df.head())\n"
   ]
  },
  {
   "cell_type": "code",
   "execution_count": 48,
   "metadata": {},
   "outputs": [
    {
     "name": "stdout",
     "output_type": "stream",
     "text": [
      "<class 'pandas.core.frame.DataFrame'>\n",
      "RangeIndex: 4329731 entries, 0 to 4329730\n",
      "Data columns (total 22 columns):\n",
      " #   Column                             Dtype  \n",
      "---  ------                             -----  \n",
      " 0   legId                              object \n",
      " 1   searchDate                         object \n",
      " 2   flightDate                         object \n",
      " 3   startingAirport                    object \n",
      " 4   destinationAirport                 object \n",
      " 5   fareBasisCode                      object \n",
      " 6   travelDuration                     object \n",
      " 7   isBasicEconomy                     bool   \n",
      " 8   isRefundable                       bool   \n",
      " 9   isNonStop                          bool   \n",
      " 10  baseFare                           float64\n",
      " 11  totalFare                          float64\n",
      " 12  seatsRemaining                     int64  \n",
      " 13  totalTravelDistance                float64\n",
      " 14  segmentsDepartureTimeEpochSeconds  object \n",
      " 15  segmentsArrivalTimeEpochSeconds    object \n",
      " 16  segmentsArrivalAirportCode         object \n",
      " 17  segmentsDepartureAirportCode       object \n",
      " 18  segmentsAirlineName                object \n",
      " 19  segmentsDurationInSeconds          object \n",
      " 20  segmentsDistance                   object \n",
      " 21  segmentsCabinCode                  object \n",
      "dtypes: bool(3), float64(3), int64(1), object(15)\n",
      "memory usage: 640.0+ MB\n",
      "None\n",
      "           baseFare     totalFare  seatsRemaining  totalTravelDistance\n",
      "count  4.329731e+06  4.329731e+06    4.329731e+06         3.873359e+06\n",
      "mean   3.690868e+02  4.238737e+02    5.515238e+00         2.195855e+03\n",
      "std    1.805002e+02  1.899498e+02    3.039340e+00         6.708158e+02\n",
      "min    1.000000e+00  1.959000e+01    0.000000e+00         3.380000e+02\n",
      "25%    2.567400e+02  3.056100e+02    3.000000e+00         1.943000e+03\n",
      "50%    3.581500e+02  4.086000e+02    7.000000e+00         2.438000e+03\n",
      "75%    4.679100e+02  5.272100e+02    7.000000e+00         2.607000e+03\n",
      "max    6.432560e+03  6.934100e+03    1.000000e+01         3.866000e+03\n"
     ]
    }
   ],
   "source": [
    "#Datatype and Summary Statistics\n",
    "print(df.info())\n",
    "print(df.describe())"
   ]
  },
  {
   "cell_type": "code",
   "execution_count": 49,
   "metadata": {},
   "outputs": [
    {
     "name": "stdout",
     "output_type": "stream",
     "text": [
      "legId                                     0\n",
      "searchDate                                0\n",
      "flightDate                                0\n",
      "startingAirport                           0\n",
      "destinationAirport                        0\n",
      "fareBasisCode                             0\n",
      "travelDuration                            0\n",
      "isBasicEconomy                            0\n",
      "isRefundable                              0\n",
      "isNonStop                                 0\n",
      "baseFare                                  0\n",
      "totalFare                                 0\n",
      "seatsRemaining                            0\n",
      "totalTravelDistance                  456372\n",
      "segmentsDepartureTimeEpochSeconds         0\n",
      "segmentsArrivalTimeEpochSeconds           0\n",
      "segmentsArrivalAirportCode                0\n",
      "segmentsDepartureAirportCode              0\n",
      "segmentsAirlineName                       0\n",
      "segmentsDurationInSeconds                 0\n",
      "segmentsDistance                          0\n",
      "segmentsCabinCode                         0\n",
      "dtype: int64\n"
     ]
    }
   ],
   "source": [
    "# Check for missing values\n",
    "missing_values = df.isnull().sum()\n",
    "print(missing_values)\n"
   ]
  },
  {
   "cell_type": "code",
   "execution_count": 50,
   "metadata": {},
   "outputs": [],
   "source": [
    "#Drop totalTravelDistance and segmentsDistance due to missing values\n",
    "\n",
    "df.drop(columns=['segmentsDistance', 'totalTravelDistance'], inplace=True)\n"
   ]
  },
  {
   "cell_type": "markdown",
   "metadata": {},
   "source": [
    "## Exploratory Analysis - Visualizations "
   ]
  },
  {
   "cell_type": "code",
   "execution_count": 51,
   "metadata": {},
   "outputs": [
    {
     "data": {
      "image/png": "[encoded data removed]",
      "text/plain": [
       "<Figure size 1500x1000 with 4 Axes>"
      ]
     },
     "metadata": {},
     "output_type": "display_data"
    }
   ],
   "source": [
    "import matplotlib.pyplot as plt\n",
    "import seaborn as sns\n",
    "\n",
    "# Plot histograms for numerical columns\n",
    "df.hist(figsize=(15, 10))\n",
    "plt.tight_layout()\n",
    "plt.show()\n"
   ]
  },
  {
   "cell_type": "markdown",
   "metadata": {},
   "source": [
    "## Feature Engineering "
   ]
  },
  {
   "cell_type": "code",
   "execution_count": 52,
   "metadata": {},
   "outputs": [
    {
     "name": "stdout",
     "output_type": "stream",
     "text": [
      "Maximum number of segments in any row: 4\n"
     ]
    }
   ],
   "source": [
    "df['num_segments'] = df['segmentsDepartureTimeEpochSeconds'].str.count(r'\\|\\|') + 1\n",
    "max_segments = df['num_segments'].max()\n",
    "\n",
    "print(f\"Maximum number of segments in any row: {max_segments}\")\n"
   ]
  },
  {
   "cell_type": "code",
   "execution_count": 53,
   "metadata": {},
   "outputs": [],
   "source": [
    "# Split departure and arrivals into separate columns\n",
    "df[['dep_1', 'dep_2', 'dep_3', 'dep_4']] = df['segmentsDepartureTimeEpochSeconds'].str.split(r'\\|\\|', expand=True)\n",
    "df[['arr_1', 'arr_2', 'arr_3', 'arr_4']] = df['segmentsArrivalTimeEpochSeconds'].str.split(r'\\|\\|', expand=True)\n",
    "\n",
    "# Convert epoch times to datetime\n",
    "for col in ['dep_1', 'dep_2', 'dep_3', 'dep_4', 'arr_1', 'arr_2', 'arr_3', 'arr_4']:\n",
    "    df[col] = pd.to_datetime(df[col].astype(float), unit='s', errors='coerce')\n",
    "\n",
    "# Recalculate num_segments based on non-NA values for departure times\n",
    "df['num_segments'] = df[['dep_1', 'dep_2', 'dep_3', 'dep_4']].notna().sum(axis=1)"
   ]
  },
  {
   "cell_type": "code",
   "execution_count": 55,
   "metadata": {},
   "outputs": [],
   "source": [
    "# Calculate layover times for each segment\n",
    "def calculate_layover(dep_col, arr_col, next_dep_col):\n",
    "    if pd.notna(dep_col) and pd.notna(arr_col):\n",
    "        return (next_dep_col - arr_col).total_seconds() / 3600 if pd.notna(next_dep_col) else 0\n",
    "    return 0\n",
    "\n",
    "# Calculate layover times for each segment\n",
    "df['layover_1'] = df.apply(lambda row: calculate_layover(row['dep_1'], row['arr_1'], row['dep_2']), axis=1)\n",
    "df['layover_2'] = df.apply(lambda row: calculate_layover(row['dep_2'], row['arr_2'], row['dep_3']), axis=1)\n",
    "df['layover_3'] = df.apply(lambda row: calculate_layover(row['dep_3'], row['arr_3'], row['dep_4']), axis=1)\n",
    "\n",
    "# Sum layover times, handling NaNs\n",
    "df['total_layover_time'] = df[['layover_1', 'layover_2', 'layover_3']].sum(axis=1, skipna=True)\n",
    "\n",
    "# Correct max layover calculation to reflect the maximum individual layover time\n",
    "df['max_layover'] = df[['layover_1', 'layover_2', 'layover_3']].max(axis=1, skipna=True)\n",
    "\n",
    "# Calculate average layover, only considering the valid layovers for each flight\n",
    "def calculate_avg_layover(row):\n",
    "    \"\"\"Calculate the average layover time, only considering non-zero layovers.\"\"\"\n",
    "    layovers = [row['layover_1'], row['layover_2'], row['layover_3']]\n",
    "    \n",
    "    # Filter out the zero or NaN layovers\n",
    "    valid_layovers = [layover for layover in layovers if pd.notna(layover) and layover > 0]\n",
    "    \n",
    "    # Calculate the average of the valid layovers\n",
    "    if valid_layovers:  # If there are any valid layovers\n",
    "        return sum(valid_layovers) / len(valid_layovers)\n",
    "    else:\n",
    "        return 0  # Return 0 if no valid layovers\n",
    "\n",
    "# Apply the function to calculate average layover\n",
    "df['avg_layover'] = df.apply(calculate_avg_layover, axis=1)\n"
   ]
  },
  {
   "cell_type": "code",
   "execution_count": 56,
   "metadata": {},
   "outputs": [],
   "source": [
    "# Calculate the total flight duration, excluding layovers\n",
    "def calculate_flight_duration(row):\n",
    "    total_duration = 0\n",
    "    num_segments = row['num_segments']\n",
    "    \n",
    "    # Ensure there are valid departure and arrival times to compute the duration\n",
    "    if num_segments >= 1 and pd.notna(row['dep_1']) and pd.notna(row[f'arr_{num_segments}']):\n",
    "        # Total time between first departure and last arrival\n",
    "        total_duration = (row[f'arr_{num_segments}'] - row['dep_1']).total_seconds() / 3600\n",
    "    \n",
    "    # Subtract layover times to get only time spent flying\n",
    "    total_duration -= row['total_layover_time']\n",
    "    \n",
    "    return total_duration\n",
    "\n",
    "# Apply the function to calculate total flight duration\n",
    "df['total_flight_duration'] = df.apply(calculate_flight_duration, axis=1)"
   ]
  },
  {
   "cell_type": "code",
   "execution_count": 57,
   "metadata": {},
   "outputs": [],
   "source": [
    "# Calculate segment durations for each leg\n",
    "def calculate_segment_duration(dep_col, arr_col):\n",
    "    \"\"\"Calculate the duration of a segment between departure and arrival times.\"\"\"\n",
    "    if pd.notna(dep_col) and pd.notna(arr_col):\n",
    "        return (arr_col - dep_col).total_seconds() / 3600  # Duration in hours\n",
    "    return 0\n",
    "\n",
    "# Apply the function to calculate segment durations for each leg\n",
    "df['segment_1_duration'] = df.apply(lambda row: calculate_segment_duration(row['dep_1'], row['arr_1']), axis=1)\n",
    "df['segment_2_duration'] = df.apply(lambda row: calculate_segment_duration(row['dep_2'], row['arr_2']), axis=1)\n",
    "df['segment_3_duration'] = df.apply(lambda row: calculate_segment_duration(row['dep_3'], row['arr_3']), axis=1)\n",
    "df['segment_4_duration'] = df.apply(lambda row: calculate_segment_duration(row['dep_4'], row['arr_4']), axis=1)\n",
    "\n",
    "# Update max_segment_duration by finding the maximum duration of the available segments\n",
    "df['max_segment_duration'] = df[['segment_1_duration', 'segment_2_duration', 'segment_3_duration', 'segment_4_duration']].max(axis=1, skipna=True)\n",
    "\n",
    "# Calculate minimum segment duration (excluding zero durations)\n",
    "def calculate_min_segment_duration(row):\n",
    "    \"\"\"Calculate minimum segment duration excluding zero values.\"\"\"\n",
    "    segment_durations = [\n",
    "        row['segment_1_duration'],\n",
    "        row['segment_2_duration'],\n",
    "        row['segment_3_duration'],\n",
    "        row['segment_4_duration']\n",
    "    ]\n",
    "    \n",
    "    # Filter out zero durations and find the minimum\n",
    "    non_zero_durations = [duration for duration in segment_durations if duration > 0]\n",
    "    \n",
    "    if non_zero_durations:  # Check if there are non-zero durations\n",
    "        return min(non_zero_durations)\n",
    "    else:\n",
    "        return 0  # Return 0 if no valid segment durations are found\n",
    "\n",
    "# Apply the function to calculate the minimum segment duration\n",
    "df['min_segment_duration'] = df.apply(calculate_min_segment_duration, axis=1)\n",
    "\n"
   ]
  },
  {
   "cell_type": "code",
   "execution_count": 60,
   "metadata": {},
   "outputs": [
    {
     "name": "stdout",
     "output_type": "stream",
     "text": [
      "   total_flight_duration  total_layover_time  num_segments  \\\n",
      "0                   5.25            9.166667             2   \n",
      "1                   6.90            3.800000             2   \n",
      "2                   6.05            3.766667             2   \n",
      "3                   5.25            7.450000             2   \n",
      "4                   5.00            1.283333             2   \n",
      "\n",
      "   max_segment_duration  min_segment_duration  max_layover  avg_layover  \n",
      "0              4.000000              1.250000     9.166667     9.166667  \n",
      "1              5.000000              1.900000     3.800000     3.800000  \n",
      "2              4.066667              1.983333     3.766667     3.766667  \n",
      "3              4.000000              1.250000     7.450000     7.450000  \n",
      "4              3.916667              1.083333     1.283333     1.283333  \n"
     ]
    }
   ],
   "source": [
    "# Output the corrected summary columns\n",
    "print(df[['total_flight_duration', 'total_layover_time', 'num_segments', 'max_segment_duration','min_segment_duration', 'max_layover' , 'avg_layover']].head())\n"
   ]
  }
 ],
 "metadata": {
  "kernelspec": {
   "display_name": "venv",
   "language": "python",
   "name": "python3"
  },
  "language_info": {
   "codemirror_mode": {
    "name": "ipython",
    "version": 3
   },
   "file_extension": ".py",
   "mimetype": "text/x-python",
   "name": "python",
   "nbconvert_exporter": "python",
   "pygments_lexer": "ipython3",
   "version": "3.12.8"
  }
 },
 "nbformat": 4,
 "nbformat_minor": 2
}
